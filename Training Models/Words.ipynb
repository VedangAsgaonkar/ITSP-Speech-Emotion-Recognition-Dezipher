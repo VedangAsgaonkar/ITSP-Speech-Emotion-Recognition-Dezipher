{
  "nbformat": 4,
  "nbformat_minor": 0,
  "metadata": {
    "colab": {
      "name": "ITSP(words).ipynb",
      "provenance": [],
      "collapsed_sections": []
    },
    "kernelspec": {
      "name": "python3",
      "display_name": "Python 3"
    },
    "language_info": {
      "name": "python"
    }
  },
  "cells": [
    {
      "cell_type": "code",
      "metadata": {
        "colab": {
          "base_uri": "https://localhost:8080/"
        },
        "id": "sAePVqJCYYj4",
        "outputId": "d1f21e77-3b32-4dff-8ff7-93a322fb2b89"
      },
      "source": [
        "!pip install SpeechRecognition"
      ],
      "execution_count": null,
      "outputs": [
        {
          "output_type": "stream",
          "text": [
            "Collecting SpeechRecognition\n",
            "\u001b[?25l  Downloading https://files.pythonhosted.org/packages/26/e1/7f5678cd94ec1234269d23756dbdaa4c8cfaed973412f88ae8adf7893a50/SpeechRecognition-3.8.1-py2.py3-none-any.whl (32.8MB)\n",
            "\u001b[K     |████████████████████████████████| 32.8MB 119kB/s \n",
            "\u001b[?25hInstalling collected packages: SpeechRecognition\n",
            "Successfully installed SpeechRecognition-3.8.1\n"
          ],
          "name": "stdout"
        }
      ]
    },
    {
      "cell_type": "code",
      "metadata": {
        "id": "1H9D9BCKRvCM"
      },
      "source": [
        ""
      ],
      "execution_count": null,
      "outputs": []
    },
    {
      "cell_type": "code",
      "metadata": {
        "id": "gqgjMdRCYnCT"
      },
      "source": [
        "import speech_recognition as sr\n",
        "import pandas as pd\n",
        "import numpy as np\n",
        "import matplotlib.pyplot as plt"
      ],
      "execution_count": null,
      "outputs": []
    },
    {
      "cell_type": "code",
      "metadata": {
        "colab": {
          "base_uri": "https://localhost:8080/"
        },
        "id": "UgMe5JcgYtVj",
        "outputId": "493e175b-e205-432b-9d69-cad291903aef"
      },
      "source": [
        "from google.colab import drive\n",
        "drive.mount('/content/gdrive')"
      ],
      "execution_count": null,
      "outputs": [
        {
          "output_type": "stream",
          "text": [
            "Mounted at /content/gdrive\n"
          ],
          "name": "stdout"
        }
      ]
    },
    {
      "cell_type": "code",
      "metadata": {
        "id": "2KwBKx5wYwQy"
      },
      "source": [
        "def load_glove_embeddings(dim):\n",
        "  #input: The dimensions of the embeddings to be loaded\n",
        "  #output: A dictionary with every word and its vector\n",
        "\n",
        "  GLOVE_DIM = dim #the dimensions of the embeddings\n",
        "  #loading the GLOVE embeddings\n",
        "  input_path = '/content/gdrive/MyDrive/'\n",
        "  glove_file = 'glove.6B.' + str(GLOVE_DIM) + 'd.txt'\n",
        "  emb_dict = {} #dictionary that stores each vector indexed by its word\n",
        "  glove = open(input_path+glove_file)\n",
        "  for line in glove:\n",
        "    word, vector = line.split(maxsplit=1)\n",
        "    vector = np.fromstring(vector,'f',sep=\" \")\n",
        "    emb_dict[word] = vector\n",
        "  glove.close()\n",
        "  return emb_dict"
      ],
      "execution_count": null,
      "outputs": []
    },
    {
      "cell_type": "code",
      "metadata": {
        "id": "lgDBEe9FaILL"
      },
      "source": [
        "text_data_path = \"/content/gdrive/MyDrive/text data/\""
      ],
      "execution_count": null,
      "outputs": []
    },
    {
      "cell_type": "code",
      "metadata": {
        "id": "2YqMnOJXZd3j"
      },
      "source": [
        "def load_train_data():\n",
        "  #input: ideally the path should be input\n",
        "  #output: training sentences and their labels\n",
        "\n",
        "  train_text = open(text_data_path+\"train.txt\")\n",
        "  angry_additional_text = open(text_data_path+\"Emotion(angry).txt\")\n",
        "\n",
        "  #loading training data \n",
        "  train_sentences=[] #all sentences\n",
        "  train_labels=[] #their labels\n",
        "  train_as_str = \"\" #will hold all data as a string\n",
        "  with train_text as f:\n",
        "    train_as_str = f.read() #reading the training data\n",
        "  train_as_str = train_as_str.lower()\n",
        "  lines = train_as_str.split(\"\\n\") #each line has a sentence and a label, seperated with a semicolon\n",
        "  for line in lines:\n",
        "    lsen = line.split(\";\") #lsen has the sentence and its label\n",
        "    if len(lsen) == 2 :\n",
        "      train_sentences.append(lsen[0]) #storing the sentence\n",
        "      train_labels.append(lsen[1]) #storing the label\n",
        "\n",
        "  #now using the additional angry sentences. They are going to need further processing\n",
        "  with angry_additional_text as f:\n",
        "    train_as_str = f.read()\n",
        "  train_as_str = train_as_str.lower()\n",
        "  lines = train_as_str.split(\"\\n\")\n",
        "  for line in lines:\n",
        "    lsen = line.split(\".\")  #each line may have multiple sentences, hence split along dot\n",
        "    train_sentences.extend(lsen) #adding all the sentences at the end\n",
        "    train_labels.extend([\"anger\" for i in range(len(lsen))]) #adding \"anger\" the required number of times\n",
        "\n",
        "  return train_sentences, train_labels"
      ],
      "execution_count": null,
      "outputs": []
    },
    {
      "cell_type": "code",
      "metadata": {
        "id": "87qpOz5WbQff"
      },
      "source": [
        "def load_val_data():\n",
        "  #input: ideally the path should be input\n",
        "  #output: validation sentences and their labels\n",
        "\n",
        "  #loading validation data \n",
        "  val_text = open(text_data_path+\"val.txt\")\n",
        "  val_sentences=[] #all sentences\n",
        "  val_labels=[] #their labels\n",
        "  val_as_str = \"\" #will hold all data as a string\n",
        "  with val_text as f:\n",
        "    val_as_str = f.read() #reading the validation data\n",
        "  val_as_str = val_as_str.lower()\n",
        "  lines = val_as_str.split(\"\\n\") #each line has a sentence and a label, seperated with a semicolon\n",
        "  for line in lines:\n",
        "    lsen = line.split(\";\") #lsen has the sentence and its label\n",
        "    if len(lsen) == 2 :\n",
        "      val_sentences.append(lsen[0]) #storing the sentence\n",
        "      val_labels.append(lsen[1]) #storing the label\n",
        "  return val_sentences, val_labels"
      ],
      "execution_count": null,
      "outputs": []
    },
    {
      "cell_type": "code",
      "metadata": {
        "id": "g7yMxr_VbQVL"
      },
      "source": [
        "def load_test_data():\n",
        "  #input: ideally the path should be input\n",
        "  #output: test sentences and their labels\n",
        "\n",
        "  #loading test data \n",
        "  test_text = open(text_data_path+\"test.txt\")\n",
        "  test_sentences=[] #all sentences\n",
        "  test_labels=[] #their labels\n",
        "  test_as_str = \"\" #will hold all data as a string\n",
        "  with test_text as f:\n",
        "    test_as_str = f.read() #reading the testing data\n",
        "  test_as_str = test_as_str.lower()\n",
        "  lines = test_as_str.split(\"\\n\") #each line has a sentence and a label, seperated with a semicolon\n",
        "  for line in lines:\n",
        "    lsen = line.split(\";\") #lsen has the sentence and its label\n",
        "    if len(lsen) == 2 :\n",
        "      test_sentences.append(lsen[0]) #storing the sentence\n",
        "      test_labels.append(lsen[1]) #storing the label\n",
        "  return test_sentences, test_labels"
      ],
      "execution_count": null,
      "outputs": []
    },
    {
      "cell_type": "code",
      "metadata": {
        "id": "CPmtqM1rchR8"
      },
      "source": [
        "from tensorflow.keras.layers.experimental.preprocessing import TextVectorization"
      ],
      "execution_count": null,
      "outputs": []
    },
    {
      "cell_type": "code",
      "metadata": {
        "id": "a-9wyhjEclmf"
      },
      "source": [
        "def create_vectorizer(sentence_data_for_vocab, num_most_freq_words=20000, max_word_length=24):\n",
        "  #input: sentence_data_for_vocab: a list containing sentences from which the vectorizer create its vocabulary, which it maps to indices\n",
        "  #       num_most_freq_words: int storing the number of most frequent words that will contribute to the vocabulary\n",
        "  #       max_word_length: The length of the ouput int sentence from the vectorizer. Smaller sentences are padded, larger ones are truncated\n",
        "  #output: vectorizer: the vectorizer which can be used to vectorize other sentences\n",
        "  #        voc: a list of all words in descending order of their frequency of occurance\n",
        "  #        word_index: dictionary storing words and their indices\n",
        "\n",
        "  #vectorizer is used to convert sentences to a list of their word indices:\n",
        "  vectorizer = TextVectorization(max_tokens=num_most_freq_words, output_sequence_length=max_word_length) #maximum number of words to be take= 20000, max length of sentence=24 words\n",
        "  text_ds = tf.data.Dataset.from_tensor_slices(train_sentences).batch(128) #breaks into batches of 128 sentences. Not needed really, but okay\n",
        "  vectorizer.adapt(text_ds)\n",
        "  voc = vectorizer.get_vocabulary()\n",
        "  word_index = dict(zip(voc, range(len(voc)))) #a dictionary with words and indices\n",
        "  return vectorizer, voc, word_index"
      ],
      "execution_count": null,
      "outputs": []
    },
    {
      "cell_type": "code",
      "metadata": {
        "id": "7w2QgTjwerfk"
      },
      "source": [
        "import tensorflow as tf\n",
        "from tensorflow import keras\n",
        "from tensorflow.keras.layers import Embedding"
      ],
      "execution_count": null,
      "outputs": []
    },
    {
      "cell_type": "code",
      "metadata": {
        "colab": {
          "base_uri": "https://localhost:8080/"
        },
        "id": "L_GhifSYfUGC",
        "outputId": "5f267b12-5888-4f01-f9dd-879fce7f4836"
      },
      "source": [
        "#main\n",
        "GLOVE_DIM = 300\n",
        "LENGTH_SENTENCE = 24\n",
        "emb_dict = load_glove_embeddings(GLOVE_DIM)\n",
        "train_sentences, train_labels= load_train_data()\n",
        "val_sentences, val_labels= load_val_data()\n",
        "test_sentences, test_labels= load_test_data()\n",
        "vectorizer, voc, word_index = create_vectorizer(train_sentences,20000,LENGTH_SENTENCE)\n",
        "\n",
        "#Embedding Layer Creation\n",
        "\n",
        "num_tokens = len(voc) + 2\n",
        "embedding_dim = GLOVE_DIM\n",
        "hits = 0\n",
        "misses = 0\n",
        "\n",
        "# Prepare embedding matrix\n",
        "embedding_matrix = np.zeros((num_tokens, embedding_dim))\n",
        "for word, i in word_index.items():\n",
        "    embedding_vector = emb_dict.get(word)\n",
        "    if embedding_vector is not None:\n",
        "        # Words not found in embedding index will be all-zeros.\n",
        "        # This includes the representation for \"padding\" and \"OOV\"\n",
        "        embedding_matrix[i] = embedding_vector\n",
        "        hits += 1\n",
        "    else:\n",
        "        misses += 1\n",
        "print(\"Converted %d words (%d misses)\" % (hits, misses))\n",
        "embedding_layer = Embedding(\n",
        "    num_tokens,\n",
        "    embedding_dim,\n",
        "    embeddings_initializer=keras.initializers.Constant(embedding_matrix),\n",
        "    trainable=False,\n",
        ")\n"
      ],
      "execution_count": null,
      "outputs": [
        {
          "output_type": "stream",
          "text": [
            "Converted 14298 words (1110 misses)\n"
          ],
          "name": "stdout"
        }
      ]
    },
    {
      "cell_type": "code",
      "metadata": {
        "colab": {
          "base_uri": "https://localhost:8080/"
        },
        "id": "bUF1Hn-9g34H",
        "outputId": "a62227dd-1444-4fa2-f89e-411a695fdfe3"
      },
      "source": [
        "from tensorflow.keras import layers\n",
        "kernel_size = [3,5,7,9]\n",
        "parallel_layers = []\n",
        "int_sequences_input = keras.Input(shape=(LENGTH_SENTENCE,), dtype=\"int64\")\n",
        "embedded_sequences = embedding_layer(int_sequences_input)\n",
        "for i in range(4):  \n",
        "  x = layers.Conv1D(64, kernel_size[i], activation=\"relu\")(embedded_sequences)\n",
        "  x = layers.Reshape((24-kernel_size[i]+1,64,1) , input_shape=(24-kernel_size[i]+1,64,))(x)\n",
        "  x = layers.MaxPooling2D((2,2), padding=\"valid\")(x) \n",
        "  parallel_layers.append(x)  \n",
        "\n",
        "x = tf.keras.layers.Concatenate(axis=1)(parallel_layers)\n",
        "x = layers.Flatten()(x)\n",
        "x = layers.Dense(100, activation='relu')(x)\n",
        "x= layers.Dropout(0.75)(x)\n",
        "x=layers.Dense(50,activation=\"relu\")(x)\n",
        "x = layers.Dense(10, activation='relu')(x)\n",
        "x = layers.Dense(6, activation='softmax')(x)\n",
        "\n",
        "model = keras.Model(int_sequences_input, x)\n",
        "model.summary()"
      ],
      "execution_count": null,
      "outputs": [
        {
          "output_type": "stream",
          "text": [
            "Model: \"model\"\n",
            "__________________________________________________________________________________________________\n",
            "Layer (type)                    Output Shape         Param #     Connected to                     \n",
            "==================================================================================================\n",
            "input_1 (InputLayer)            [(None, 24)]         0                                            \n",
            "__________________________________________________________________________________________________\n",
            "embedding (Embedding)           (None, 24, 300)      4623000     input_1[0][0]                    \n",
            "__________________________________________________________________________________________________\n",
            "conv1d (Conv1D)                 (None, 22, 64)       57664       embedding[0][0]                  \n",
            "__________________________________________________________________________________________________\n",
            "conv1d_1 (Conv1D)               (None, 20, 64)       96064       embedding[0][0]                  \n",
            "__________________________________________________________________________________________________\n",
            "conv1d_2 (Conv1D)               (None, 18, 64)       134464      embedding[0][0]                  \n",
            "__________________________________________________________________________________________________\n",
            "conv1d_3 (Conv1D)               (None, 16, 64)       172864      embedding[0][0]                  \n",
            "__________________________________________________________________________________________________\n",
            "reshape (Reshape)               (None, 22, 64, 1)    0           conv1d[0][0]                     \n",
            "__________________________________________________________________________________________________\n",
            "reshape_1 (Reshape)             (None, 20, 64, 1)    0           conv1d_1[0][0]                   \n",
            "__________________________________________________________________________________________________\n",
            "reshape_2 (Reshape)             (None, 18, 64, 1)    0           conv1d_2[0][0]                   \n",
            "__________________________________________________________________________________________________\n",
            "reshape_3 (Reshape)             (None, 16, 64, 1)    0           conv1d_3[0][0]                   \n",
            "__________________________________________________________________________________________________\n",
            "max_pooling2d (MaxPooling2D)    (None, 11, 32, 1)    0           reshape[0][0]                    \n",
            "__________________________________________________________________________________________________\n",
            "max_pooling2d_1 (MaxPooling2D)  (None, 10, 32, 1)    0           reshape_1[0][0]                  \n",
            "__________________________________________________________________________________________________\n",
            "max_pooling2d_2 (MaxPooling2D)  (None, 9, 32, 1)     0           reshape_2[0][0]                  \n",
            "__________________________________________________________________________________________________\n",
            "max_pooling2d_3 (MaxPooling2D)  (None, 8, 32, 1)     0           reshape_3[0][0]                  \n",
            "__________________________________________________________________________________________________\n",
            "concatenate (Concatenate)       (None, 38, 32, 1)    0           max_pooling2d[0][0]              \n",
            "                                                                 max_pooling2d_1[0][0]            \n",
            "                                                                 max_pooling2d_2[0][0]            \n",
            "                                                                 max_pooling2d_3[0][0]            \n",
            "__________________________________________________________________________________________________\n",
            "flatten (Flatten)               (None, 1216)         0           concatenate[0][0]                \n",
            "__________________________________________________________________________________________________\n",
            "dense (Dense)                   (None, 100)          121700      flatten[0][0]                    \n",
            "__________________________________________________________________________________________________\n",
            "dropout (Dropout)               (None, 100)          0           dense[0][0]                      \n",
            "__________________________________________________________________________________________________\n",
            "dense_1 (Dense)                 (None, 50)           5050        dropout[0][0]                    \n",
            "__________________________________________________________________________________________________\n",
            "dense_2 (Dense)                 (None, 10)           510         dense_1[0][0]                    \n",
            "__________________________________________________________________________________________________\n",
            "dense_3 (Dense)                 (None, 6)            66          dense_2[0][0]                    \n",
            "==================================================================================================\n",
            "Total params: 5,211,382\n",
            "Trainable params: 588,382\n",
            "Non-trainable params: 4,623,000\n",
            "__________________________________________________________________________________________________\n"
          ],
          "name": "stdout"
        }
      ]
    },
    {
      "cell_type": "code",
      "metadata": {
        "id": "jMQqZMJcwZDE"
      },
      "source": [
        "numerical_labels = {\n",
        "    \"anger\": 0,\n",
        "    \"fear\": 1,\n",
        "    \"joy\": 2,\n",
        "    \"sadness\": 3,    \n",
        "    \"love\": 4,\n",
        "    \"surprise\": 5,\n",
        "}\n",
        "x_train = vectorizer(np.array([[s] for s in train_sentences])).numpy()\n",
        "x_val = vectorizer(np.array([[s] for s in val_sentences])).numpy()\n",
        "\n",
        "y_train = np.array([[numerical_labels[s]] for s in train_labels])\n",
        "y_val = np.array([[numerical_labels[s]] for s in val_labels])"
      ],
      "execution_count": null,
      "outputs": []
    },
    {
      "cell_type": "code",
      "metadata": {
        "colab": {
          "base_uri": "https://localhost:8080/"
        },
        "id": "P4xrb-ld79hl",
        "outputId": "a422105c-7262-4352-b525-06ca33946ee9"
      },
      "source": [
        "model.compile(\n",
        "    loss=\"sparse_categorical_crossentropy\", optimizer=\"adam\", metrics=[\"acc\"]\n",
        ")\n",
        "history = model.fit(x_train, y_train, batch_size=128, epochs=20, validation_data=(x_val, y_val))"
      ],
      "execution_count": null,
      "outputs": [
        {
          "output_type": "stream",
          "text": [
            "Epoch 1/20\n",
            "136/136 [==============================] - 22s 155ms/step - loss: 1.7441 - acc: 0.2349 - val_loss: 1.5468 - val_acc: 0.4660\n",
            "Epoch 2/20\n",
            "136/136 [==============================] - 21s 154ms/step - loss: 1.5123 - acc: 0.3904 - val_loss: 1.3272 - val_acc: 0.5290\n",
            "Epoch 3/20\n",
            "136/136 [==============================] - 21s 155ms/step - loss: 1.2866 - acc: 0.5126 - val_loss: 1.1176 - val_acc: 0.5885\n",
            "Epoch 4/20\n",
            "136/136 [==============================] - 21s 155ms/step - loss: 1.0671 - acc: 0.5993 - val_loss: 0.9706 - val_acc: 0.6630\n",
            "Epoch 5/20\n",
            "136/136 [==============================] - 21s 152ms/step - loss: 0.8610 - acc: 0.6852 - val_loss: 0.8414 - val_acc: 0.6995\n",
            "Epoch 6/20\n",
            "136/136 [==============================] - 21s 152ms/step - loss: 0.6767 - acc: 0.7496 - val_loss: 0.7471 - val_acc: 0.7445\n",
            "Epoch 7/20\n",
            "136/136 [==============================] - 21s 151ms/step - loss: 0.5478 - acc: 0.8018 - val_loss: 0.7339 - val_acc: 0.7520\n",
            "Epoch 8/20\n",
            "136/136 [==============================] - 21s 151ms/step - loss: 0.4384 - acc: 0.8380 - val_loss: 0.7965 - val_acc: 0.7595\n",
            "Epoch 9/20\n",
            "136/136 [==============================] - 20s 150ms/step - loss: 0.3838 - acc: 0.8564 - val_loss: 0.7771 - val_acc: 0.7625\n",
            "Epoch 10/20\n",
            "136/136 [==============================] - 20s 149ms/step - loss: 0.3220 - acc: 0.8810 - val_loss: 0.7915 - val_acc: 0.7685\n",
            "Epoch 11/20\n",
            "136/136 [==============================] - 20s 150ms/step - loss: 0.2624 - acc: 0.9001 - val_loss: 0.8658 - val_acc: 0.7750\n",
            "Epoch 12/20\n",
            "136/136 [==============================] - 20s 151ms/step - loss: 0.2492 - acc: 0.9069 - val_loss: 0.8500 - val_acc: 0.7840\n",
            "Epoch 13/20\n",
            "136/136 [==============================] - 21s 151ms/step - loss: 0.2223 - acc: 0.9170 - val_loss: 0.9426 - val_acc: 0.7860\n",
            "Epoch 14/20\n",
            "136/136 [==============================] - 21s 151ms/step - loss: 0.1855 - acc: 0.9337 - val_loss: 0.9600 - val_acc: 0.7940\n",
            "Epoch 15/20\n",
            "136/136 [==============================] - 21s 151ms/step - loss: 0.1573 - acc: 0.9452 - val_loss: 1.0372 - val_acc: 0.7900\n",
            "Epoch 16/20\n",
            "136/136 [==============================] - 20s 149ms/step - loss: 0.1625 - acc: 0.9438 - val_loss: 0.9761 - val_acc: 0.7880\n",
            "Epoch 17/20\n",
            "136/136 [==============================] - 23s 171ms/step - loss: 0.1411 - acc: 0.9512 - val_loss: 0.9697 - val_acc: 0.7970\n",
            "Epoch 18/20\n",
            "136/136 [==============================] - 20s 151ms/step - loss: 0.1262 - acc: 0.9578 - val_loss: 1.0229 - val_acc: 0.7995\n",
            "Epoch 19/20\n",
            "136/136 [==============================] - 20s 150ms/step - loss: 0.1287 - acc: 0.9532 - val_loss: 1.0803 - val_acc: 0.7960\n",
            "Epoch 20/20\n",
            "136/136 [==============================] - 20s 151ms/step - loss: 0.1110 - acc: 0.9627 - val_loss: 1.0283 - val_acc: 0.8025\n"
          ],
          "name": "stdout"
        }
      ]
    },
    {
      "cell_type": "code",
      "metadata": {
        "colab": {
          "base_uri": "https://localhost:8080/",
          "height": 295
        },
        "id": "OmdYb5xs8k0G",
        "outputId": "fef24ae7-434d-4be0-853b-7f97a84d42c8"
      },
      "source": [
        "import keras\n",
        "from matplotlib import pyplot as plt\n",
        "#history = model.fit(tx, train_y,validation_split = 0.1, epochs=50, batch_size=4)\n",
        "plt.plot(history.history['acc'])\n",
        "plt.plot(history.history['val_acc'])\n",
        "plt.title('model accuracy')\n",
        "plt.ylabel('accuracy')\n",
        "plt.xlabel('epoch')\n",
        "plt.legend(['train', 'val'], loc='upper left')\n",
        "plt.show()"
      ],
      "execution_count": null,
      "outputs": [
        {
          "output_type": "display_data",
          "data": {
            "image/png": "[encoded data removed]",
            "text/plain": [
              "<Figure size 432x288 with 1 Axes>"
            ]
          },
          "metadata": {
            "tags": [],
            "needs_background": "light"
          }
        }
      ]
    },
    {
      "cell_type": "code",
      "metadata": {
        "colab": {
          "base_uri": "https://localhost:8080/"
        },
        "id": "JAQNif-m8QOH",
        "outputId": "fe170650-7a3c-42a1-eb3a-c45773cab8bd"
      },
      "source": [
        "x_test = vectorizer(np.array([[s] for s in test_sentences])).numpy()\n",
        "\n",
        "y_test = np.array([[numerical_labels[s]] for s in test_labels])\n",
        "\n",
        "test_loss, test_acc = model.evaluate(x_test,  y_test, verbose=1)"
      ],
      "execution_count": null,
      "outputs": [
        {
          "output_type": "stream",
          "text": [
            "63/63 [==============================] - 1s 16ms/step - loss: 1.1474 - acc: 0.7800\n"
          ],
          "name": "stdout"
        }
      ]
    },
    {
      "cell_type": "code",
      "metadata": {
        "colab": {
          "base_uri": "https://localhost:8080/"
        },
        "id": "kSq_13l6fByA",
        "outputId": "d21d6bf4-6e42-45f7-cac5-12ab9b9f03b4"
      },
      "source": [
        "%cd '/content/gdrive/MyDrive/Models'\n",
        "model.save('Words_Based_Detector.h5')"
      ],
      "execution_count": null,
      "outputs": [
        {
          "output_type": "stream",
          "text": [
            "/content/gdrive/MyDrive/Models\n"
          ],
          "name": "stdout"
        }
      ]
    },
    {
      "cell_type": "code",
      "metadata": {
        "id": "-cjU9EkdMprp"
      },
      "source": [
        ""
      ],
      "execution_count": null,
      "outputs": []
    }
  ]
}